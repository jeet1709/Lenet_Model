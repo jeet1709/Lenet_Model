{
 "cells": [
  {
   "cell_type": "code",
   "execution_count": 1,
   "metadata": {},
   "outputs": [
    {
     "name": "stderr",
     "output_type": "stream",
     "text": [
      "Using TensorFlow backend.\n"
     ]
    }
   ],
   "source": [
    "import numpy as np\n",
    "import pandas as pd\n",
    "import matplotlib.pyplot as plt\n",
    "from keras.datasets import mnist\n",
    "from sklearn.metrics import confusion_matrix\n",
    "import tensorflow as tf\n",
    "from keras.models import Sequential\n",
    "from keras.optimizers import Adam\n",
    "from keras.layers import Conv2D,Flatten,Dense,MaxPooling2D,Dropout,Activation\n",
    "from keras.utils import to_categorical"
   ]
  },
  {
   "cell_type": "code",
   "execution_count": 4,
   "metadata": {},
   "outputs": [
    {
     "name": "stdout",
     "output_type": "stream",
     "text": [
      "Epoch 1/20\n",
      "60000/60000 [==============================] - 55s 925us/step - loss: 0.7145 - accuracy: 0.7624\n",
      "Epoch 2/20\n",
      "60000/60000 [==============================] - 56s 936us/step - loss: 0.2343 - accuracy: 0.9312\n",
      "Epoch 3/20\n",
      "60000/60000 [==============================] - 58s 972us/step - loss: 0.1857 - accuracy: 0.9463\n",
      "Epoch 4/20\n",
      "60000/60000 [==============================] - 60s 1ms/step - loss: 0.1619 - accuracy: 0.9525\n",
      "Epoch 5/20\n",
      "60000/60000 [==============================] - 56s 941us/step - loss: 0.1428 - accuracy: 0.9585\n",
      "Epoch 6/20\n",
      "60000/60000 [==============================] - 57s 947us/step - loss: 0.1313 - accuracy: 0.9623\n",
      "Epoch 7/20\n",
      "60000/60000 [==============================] - 53s 887us/step - loss: 0.1204 - accuracy: 0.9649\n",
      "Epoch 8/20\n",
      "60000/60000 [==============================] - 58s 970us/step - loss: 0.1145 - accuracy: 0.9663\n",
      "Epoch 9/20\n",
      "60000/60000 [==============================] - 59s 979us/step - loss: 0.1091 - accuracy: 0.9672\n",
      "Epoch 10/20\n",
      "60000/60000 [==============================] - 60s 1ms/step - loss: 0.1033 - accuracy: 0.9696\n",
      "Epoch 11/20\n",
      "60000/60000 [==============================] - 57s 958us/step - loss: 0.0993 - accuracy: 0.9707\n",
      "Epoch 12/20\n",
      "60000/60000 [==============================] - 58s 970us/step - loss: 0.0935 - accuracy: 0.9723\n",
      "Epoch 13/20\n",
      "60000/60000 [==============================] - 56s 933us/step - loss: 0.0903 - accuracy: 0.9734\n",
      "Epoch 14/20\n",
      "60000/60000 [==============================] - 60s 993us/step - loss: 0.0867 - accuracy: 0.9750\n",
      "Epoch 15/20\n",
      "60000/60000 [==============================] - 57s 949us/step - loss: 0.0856 - accuracy: 0.9745\n",
      "Epoch 16/20\n",
      "60000/60000 [==============================] - 56s 937us/step - loss: 0.0814 - accuracy: 0.9761\n",
      "Epoch 17/20\n",
      "60000/60000 [==============================] - 72s 1ms/step - loss: 0.0791 - accuracy: 0.9768\n",
      "Epoch 18/20\n",
      "60000/60000 [==============================] - 56s 934us/step - loss: 0.0756 - accuracy: 0.9781\n",
      "Epoch 19/20\n",
      "60000/60000 [==============================] - 61s 1ms/step - loss: 0.0744 - accuracy: 0.9783\n",
      "Epoch 20/20\n",
      "60000/60000 [==============================] - 60s 998us/step - loss: 0.0713 - accuracy: 0.9790\n"
     ]
    }
   ],
   "source": [
    "(x_train, y_train), (x_test, y_test)=mnist.load_data()\n",
    "rows=28\n",
    "cols=28\n",
    "x_train=x_train.reshape(x_train.shape[0],rows,cols,1)\n",
    "x_test=x_test.reshape(x_test.shape[0],rows,cols,1)\n",
    "\n",
    "input_shape=(rows,cols,1)\n",
    "x_train = x_train.astype('float32')\n",
    "x_test = x_test.astype('float32')\n",
    "x_train = x_train / 255.0\n",
    "x_test = x_test / 255.0\n",
    "#print(x_test.dtype)\n",
    "\n",
    "y_train=to_categorical(y_train,10)\n",
    "y_test=to_categorical(y_test,10)\n",
    "model = Sequential()\n",
    "\n",
    "model.add(Conv2D(filters=8,kernel_size=(3,3),strides=(1,1),input_shape=input_shape))\n",
    "model.add(Activation('relu'))\n",
    "model.add(MaxPooling2D(pool_size=(2,2)))\n",
    "\n",
    "model.add(Conv2D(filters=16,kernel_size=(3,3)))\n",
    "model.add(Activation('relu'))\n",
    "model.add(MaxPooling2D(pool_size=(2,2)))\n",
    "\n",
    "model.add(Conv2D(filters=24,kernel_size=(3,3)))\n",
    "model.add(Activation('relu'))\n",
    "model.add(MaxPooling2D(pool_size=(2,2)))\n",
    "\n",
    "model.add(Flatten())\n",
    "model.add(Dense(100))\n",
    "model.add(Activation('relu'))\n",
    "model.add(Dropout(0.5))\n",
    "\n",
    "model.add(Dense(10))\n",
    "model.add(Activation('softmax'))\n",
    "\n",
    "#model.compile(loss = \"mean_squared_error\",optimizer = Adam(), metrics=['accuracy'],)\n",
    "\n",
    "model.compile(loss = \"categorical_crossentropy\",optimizer = Adam(), metrics=['accuracy'],)\n",
    "\n",
    "epochs=20\n",
    "\n",
    "model.fit(x_train, y_train,epochs=epochs, batch_size=100,verbose=1)\n",
    "\n",
    "model.save('lenet_model.h5')"
   ]
  },
  {
   "cell_type": "code",
   "execution_count": null,
   "metadata": {},
   "outputs": [],
   "source": []
  }
 ],
 "metadata": {
  "kernelspec": {
   "display_name": "Python 3",
   "language": "python",
   "name": "python3"
  },
  "language_info": {
   "codemirror_mode": {
    "name": "ipython",
    "version": 3
   },
   "file_extension": ".py",
   "mimetype": "text/x-python",
   "name": "python",
   "nbconvert_exporter": "python",
   "pygments_lexer": "ipython3",
   "version": "3.7.4"
  }
 },
 "nbformat": 4,
 "nbformat_minor": 2
}
