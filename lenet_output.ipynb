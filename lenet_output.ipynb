{
 "cells": [
  {
   "cell_type": "code",
   "execution_count": 1,
   "metadata": {},
   "outputs": [
    {
     "name": "stderr",
     "output_type": "stream",
     "text": [
      "Using TensorFlow backend.\n"
     ]
    }
   ],
   "source": [
    "import numpy as np\n",
    "import pandas as pd\n",
    "import matplotlib.pyplot as plt\n",
    "from keras.models import load_model\n",
    "from keras.datasets import mnist\n",
    "from sklearn.metrics import confusion_matrix\n",
    "import tensorflow as tf\n",
    "from keras.models import Sequential\n",
    "from keras.optimizers import Adam\n",
    "from keras.layers import Conv2D,Flatten,Dense,MaxPooling2D,Dropout,Activation\n",
    "from keras.utils import to_categorical"
   ]
  },
  {
   "cell_type": "code",
   "execution_count": 2,
   "metadata": {},
   "outputs": [
    {
     "name": "stdout",
     "output_type": "stream",
     "text": [
      "10000/10000 [==============================] - 1s 108us/step\n",
      "ACCURACY:  0.9811999797821045\n"
     ]
    }
   ],
   "source": [
    "(x_train, y_train), (x_test, y_test)=mnist.load_data()\n",
    "model = load_model(\"lenet_model.h5\")\n",
    "\n",
    "rows=28\n",
    "cols=28\n",
    "x_train=x_train.reshape(x_train.shape[0],rows,cols,1)\n",
    "x_test=x_test.reshape(x_test.shape[0],rows,cols,1)\n",
    "\n",
    "input_shape=(rows,cols,1)\n",
    "x_train = x_train.astype('float32')\n",
    "x_test = x_test.astype('float32')\n",
    "x_train = x_train / 255.0\n",
    "x_test = x_test / 255.0\n",
    "\n",
    "y_train=to_categorical(y_train,10)\n",
    "y_test=to_categorical(y_test,10)\n",
    "\n",
    "#model.compile(loss = \"mean_squared_error\",optimizer = Adam(), metrics=['accuracy'],)\n",
    "\n",
    "model.compile(loss = \"categorical_crossentropy\",optimizer = Adam(), metrics=['accuracy'],)\n",
    "\n",
    "loss, acc = model.evaluate(x_test, y_test)\n",
    "print('ACCURACY: ', acc)\n"
   ]
  },
  {
   "cell_type": "code",
   "execution_count": 3,
   "metadata": {},
   "outputs": [
    {
     "name": "stdout",
     "output_type": "stream",
     "text": [
      "[[ 960    1    4    0    2    2    7    3    0    1]\n",
      " [   0 1129    1    2    0    0    1    2    0    0]\n",
      " [   2    0 1010    2    4    0    2   12    0    0]\n",
      " [   0    0   10  983    0    8    0    6    0    3]\n",
      " [   1    0    1    0  975    0    1    1    1    2]\n",
      " [   3    0    0    4    1  881    2    1    0    0]\n",
      " [   3    3    3    0    6    4  938    0    1    0]\n",
      " [   0    4   16    0    1    0    0 1006    0    1]\n",
      " [   0    1    4    2    5    1    0    2  952    7]\n",
      " [   3    0    0    0    8   10    1    6    3  978]]\n"
     ]
    }
   ],
   "source": [
    "y_prediction = model.predict_classes(x_test)\n",
    "y_test_original=np.argmax(y_test,axis=1)\n",
    "confusion=confusion_matrix(y_true=y_test_original, y_pred=y_prediction)\n",
    "print(confusion)"
   ]
  }
 ],
 "metadata": {
  "kernelspec": {
   "display_name": "Python 3",
   "language": "python",
   "name": "python3"
  },
  "language_info": {
   "codemirror_mode": {
    "name": "ipython",
    "version": 3
   },
   "file_extension": ".py",
   "mimetype": "text/x-python",
   "name": "python",
   "nbconvert_exporter": "python",
   "pygments_lexer": "ipython3",
   "version": "3.7.4"
  }
 },
 "nbformat": 4,
 "nbformat_minor": 2
}
